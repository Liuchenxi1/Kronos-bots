{
 "cells": [
  {
   "cell_type": "markdown",
   "id": "af058547",
   "metadata": {},
   "source": [
    "pip install selenium\n",
    "pip install powerbiclient #-> install the power BI"
   ]
  },
  {
   "cell_type": "code",
   "execution_count": 1,
   "id": "fdd20a3e",
   "metadata": {},
   "outputs": [],
   "source": [
    "from selenium import webdriver\n",
    "\n",
    "from selenium.webdriver.common.by import By\n",
    "from selenium.webdriver.support.ui import WebDriverWait\n",
    "from selenium.webdriver.support import expected_conditions as EC\n",
    "\n",
    "import time"
   ]
  },
  {
   "cell_type": "code",
   "execution_count": 2,
   "id": "cca2b831",
   "metadata": {},
   "outputs": [],
   "source": [
    "#operating power BI from Jupyter notebooks. \n",
    "from powerbiclient import Report, models"
   ]
  },
  {
   "cell_type": "code",
   "execution_count": 3,
   "id": "7f04038c",
   "metadata": {},
   "outputs": [],
   "source": [
    "driver = webdriver.Chrome()\n",
    "driver.get('https://ath04.prd.mykronos.com/authn/XUI/?realm=/cevalogistics_prd_01#login&goto=https%3A%2F%2Fcevalogistics.prd.mykronos.com%3A443%2Fwfd%2Fhome')\n",
    "driver.maximize_window()\n",
    "#put username in\n",
    "#(driver, 10) means: Selenium will wait for a maximum of 10 seconds for an element matching the given criteria to be found\n",
    "\n",
    "username = WebDriverWait(driver, 10).until(EC.presence_of_element_located((By.ID, \"idToken1\"))).send_keys('********')\n",
    "password = WebDriverWait(driver, 10).until(EC.presence_of_element_located((By.ID, \"idToken2\"))).send_keys('********')\n",
    "\n",
    "#click \"login\"\n",
    "WebDriverWait(driver, 10).until(EC.presence_of_element_located((By.ID, \"loginButton_0\"))).click()\n",
    "\n",
    "time.sleep(6)\n",
    "\n",
    "#click the 3 lines menu on the left \n",
    "WebDriverWait(driver, 10).until(EC.presence_of_element_located((By.ID, \"navmenu-open-btn\"))).click()\n",
    "\n",
    "#click the dataviews&reports\n",
    "WebDriverWait(driver, 10).until(EC.presence_of_element_located((By.ID, \"585_category\"))).click()\n",
    "\n",
    "#click the data library\n",
    "WebDriverWait(driver, 10).until(EC.presence_of_element_located((By.ID, \"575_text\"))).click()\n",
    "\n",
    "#click the paycode summary TK\n",
    "WebDriverWait(driver, 10).until(EC.presence_of_element_located((By.ID, \"krn-slat-29\"))).click()\n",
    "\n",
    "#This part is all good! Do not delete anything. "
   ]
  },
  {
   "cell_type": "code",
   "execution_count": 4,
   "id": "6a2dfd23",
   "metadata": {},
   "outputs": [],
   "source": [
    "#click the timeframe drop down list\n",
    "time.sleep(10) ##The ptyhon runing to fast and need to get some time off. \n",
    "\n",
    "WebDriverWait(driver, 10).until(EC.presence_of_element_located((By.ID, \"ia.timeframe.selector_clock\"))).click()\n",
    "\n",
    "WebDriverWait(driver, 10).until(EC.presence_of_element_located((By.ID, \"ia.timeframe.selector_select_range\"))).click()\n",
    "\n",
    "#This part is all good! Do not delete anything. datae HAS to go liek as this"
   ]
  },
  {
   "cell_type": "code",
   "execution_count": 5,
   "id": "aa74408f",
   "metadata": {},
   "outputs": [
    {
     "name": "stdout",
     "output_type": "stream",
     "text": [
      "What the day you like to start?02192023\n",
      "What the day you like to end?02252023\n"
     ]
    }
   ],
   "source": [
    "#Pick the damn date!\n",
    "\n",
    "weekstart = input(\"What the day you like to start?\")\n",
    "weekend = input(\"What the day you like to end?\")"
   ]
  },
  {
   "cell_type": "code",
   "execution_count": 6,
   "id": "67f2c576",
   "metadata": {},
   "outputs": [],
   "source": [
    "start_date_field = WebDriverWait(driver, 10).until(EC.presence_of_element_located((By.ID, \"startDateTimeInput\")))\n",
    "start_date_field.send_keys(weekstart)\n",
    "\n",
    "end_date_field = WebDriverWait(driver, 10).until(EC.presence_of_element_located((By.ID, \"endDateTimeInput\")))\n",
    "end_date_field.send_keys(weekend)\n",
    "\n",
    "time.sleep(5)\n",
    "WebDriverWait(driver, 10).until(EC.presence_of_element_located((By.ID, \"tfsApplyButton\"))).click()\n",
    "\n",
    "#This part is all good! Do not delete anything. datae HAS to go liek as this"
   ]
  },
  {
   "cell_type": "code",
   "execution_count": 7,
   "id": "843a5413",
   "metadata": {},
   "outputs": [],
   "source": [
    "#pick the all business units\n",
    "time.sleep(2) #------> Need let the website to load, otherwise, it will crush.\n",
    "\n",
    "WebDriverWait(driver, 10).until(EC.presence_of_element_located((By.ID, \"hyperfindIcon\"))).click()\n",
    "WebDriverWait(driver, 10).until(EC.presence_of_element_located((By.ID, \"selectLocations\"))).click()\n",
    "\n",
    "time.sleep(5) #------> Need let the website to load, otherwise, it will crush.\n",
    "WebDriverWait(driver, 10).until(EC.presence_of_element_located((By.ID, \"orgmap-select-all-link\"))).click()\n",
    "\n",
    "time.sleep(2)\n",
    "WebDriverWait(driver, 10).until(EC.presence_of_element_located((By.ID, \"mapSelectDone\"))).click()\n",
    "\n",
    "#This part is all good! Do not delete anything."
   ]
  },
  {
   "cell_type": "code",
   "execution_count": 8,
   "id": "e3844c0d",
   "metadata": {},
   "outputs": [],
   "source": [
    "time.sleep(8)\n",
    "WebDriverWait(driver, 10).until(EC.presence_of_element_located((By.ID, \"com.kronos.dataview.share\"))).click()\n",
    "WebDriverWait(driver, 10).until(EC.presence_of_element_located((By.ID, \"com.kronos.dataview.share.export\"))).click()\n",
    "#This part works, Do not delete anything!"
   ]
  },
  {
   "cell_type": "code",
   "execution_count": 9,
   "id": "a05d709a",
   "metadata": {},
   "outputs": [],
   "source": [
    "time.sleep(8) ##-> python too fast, need to slow down and let the file download. \n",
    "\n",
    "import pandas as pd\n",
    "import numpy as np\n",
    "import csv\n",
    "\n",
    "timesheet = pd.read_csv('C:/Users/liuchen/Downloads/US Paycode summary TK.CSV', skiprows = 8)"
   ]
  },
  {
   "cell_type": "code",
   "execution_count": 10,
   "id": "bc856bb2",
   "metadata": {
    "scrolled": true
   },
   "outputs": [
    {
     "data": {
      "text/html": [
       "<div>\n",
       "<style scoped>\n",
       "    .dataframe tbody tr th:only-of-type {\n",
       "        vertical-align: middle;\n",
       "    }\n",
       "\n",
       "    .dataframe tbody tr th {\n",
       "        vertical-align: top;\n",
       "    }\n",
       "\n",
       "    .dataframe thead th {\n",
       "        text-align: right;\n",
       "    }\n",
       "</style>\n",
       "<table border=\"1\" class=\"dataframe\">\n",
       "  <thead>\n",
       "    <tr style=\"text-align: right;\">\n",
       "      <th></th>\n",
       "      <th>Employee Full Name</th>\n",
       "      <th>Employee ID</th>\n",
       "      <th>Legal Entity</th>\n",
       "      <th>Business Unit</th>\n",
       "      <th>Product</th>\n",
       "      <th>Location</th>\n",
       "      <th>Actual Total Hours (Include Corrections)</th>\n",
       "      <th>Actual Total Apply Date</th>\n",
       "      <th>Paycode Name</th>\n",
       "    </tr>\n",
       "  </thead>\n",
       "  <tbody>\n",
       "    <tr>\n",
       "      <th>0</th>\n",
       "      <td>Gammon, Jamison P</td>\n",
       "      <td>93014481</td>\n",
       "      <td>CEVA Logistics US</td>\n",
       "      <td>16800626</td>\n",
       "      <td>CC0101</td>\n",
       "      <td>NCR-BW5 33 Athletes Way</td>\n",
       "      <td>8.0</td>\n",
       "      <td>2/23/2023</td>\n",
       "      <td>US Salaried</td>\n",
       "    </tr>\n",
       "    <tr>\n",
       "      <th>1</th>\n",
       "      <td>Gammon, Jamison P</td>\n",
       "      <td>93014481</td>\n",
       "      <td>CEVA Logistics US</td>\n",
       "      <td>16800626</td>\n",
       "      <td>CC0101</td>\n",
       "      <td>NCR-BW5 33 Athletes Way</td>\n",
       "      <td>8.0</td>\n",
       "      <td>2/22/2023</td>\n",
       "      <td>US Salaried</td>\n",
       "    </tr>\n",
       "    <tr>\n",
       "      <th>2</th>\n",
       "      <td>Gammon, Jamison P</td>\n",
       "      <td>93014481</td>\n",
       "      <td>CEVA Logistics US</td>\n",
       "      <td>16800626</td>\n",
       "      <td>CC0101</td>\n",
       "      <td>NCR-BW5 33 Athletes Way</td>\n",
       "      <td>8.0</td>\n",
       "      <td>2/21/2023</td>\n",
       "      <td>US Salaried</td>\n",
       "    </tr>\n",
       "    <tr>\n",
       "      <th>3</th>\n",
       "      <td>Gammon, Jamison P</td>\n",
       "      <td>93014481</td>\n",
       "      <td>CEVA Logistics US</td>\n",
       "      <td>16800626</td>\n",
       "      <td>CC0101</td>\n",
       "      <td>NCR-BW5 33 Athletes Way</td>\n",
       "      <td>8.0</td>\n",
       "      <td>2/24/2023</td>\n",
       "      <td>US Salaried</td>\n",
       "    </tr>\n",
       "    <tr>\n",
       "      <th>4</th>\n",
       "      <td>Gammon, Jamison P</td>\n",
       "      <td>93014481</td>\n",
       "      <td>CEVA Logistics US</td>\n",
       "      <td>16800626</td>\n",
       "      <td>CC0101</td>\n",
       "      <td>NCR-BW5 33 Athletes Way</td>\n",
       "      <td>8.0</td>\n",
       "      <td>2/20/2023</td>\n",
       "      <td>US Salaried</td>\n",
       "    </tr>\n",
       "  </tbody>\n",
       "</table>\n",
       "</div>"
      ],
      "text/plain": [
       "  Employee Full Name Employee ID       Legal Entity  Business Unit Product  \\\n",
       "0  Gammon, Jamison P    93014481  CEVA Logistics US       16800626  CC0101   \n",
       "1  Gammon, Jamison P    93014481  CEVA Logistics US       16800626  CC0101   \n",
       "2  Gammon, Jamison P    93014481  CEVA Logistics US       16800626  CC0101   \n",
       "3  Gammon, Jamison P    93014481  CEVA Logistics US       16800626  CC0101   \n",
       "4  Gammon, Jamison P    93014481  CEVA Logistics US       16800626  CC0101   \n",
       "\n",
       "                  Location  Actual Total Hours (Include Corrections)  \\\n",
       "0  NCR-BW5 33 Athletes Way                                       8.0   \n",
       "1  NCR-BW5 33 Athletes Way                                       8.0   \n",
       "2  NCR-BW5 33 Athletes Way                                       8.0   \n",
       "3  NCR-BW5 33 Athletes Way                                       8.0   \n",
       "4  NCR-BW5 33 Athletes Way                                       8.0   \n",
       "\n",
       "  Actual Total Apply Date Paycode Name  \n",
       "0               2/23/2023  US Salaried  \n",
       "1               2/22/2023  US Salaried  \n",
       "2               2/21/2023  US Salaried  \n",
       "3               2/24/2023  US Salaried  \n",
       "4               2/20/2023  US Salaried  "
      ]
     },
     "execution_count": 10,
     "metadata": {},
     "output_type": "execute_result"
    }
   ],
   "source": [
    "timesheet.head()"
   ]
  },
  {
   "cell_type": "code",
   "execution_count": 11,
   "id": "da1a8c06",
   "metadata": {
    "scrolled": false
   },
   "outputs": [
    {
     "data": {
      "text/plain": [
       "Employee Full Name                           object\n",
       "Employee ID                                  object\n",
       "Legal Entity                                 object\n",
       "Business Unit                                 int64\n",
       "Product                                      object\n",
       "Location                                     object\n",
       "Actual Total Hours (Include Corrections)    float64\n",
       "Actual Total Apply Date                      object\n",
       "Paycode Name                                 object\n",
       "dtype: object"
      ]
     },
     "execution_count": 11,
     "metadata": {},
     "output_type": "execute_result"
    }
   ],
   "source": [
    "timesheet.dtypes"
   ]
  },
  {
   "cell_type": "code",
   "execution_count": 12,
   "id": "fb20aaf8",
   "metadata": {},
   "outputs": [
    {
     "data": {
      "text/plain": [
       "393"
      ]
     },
     "execution_count": 12,
     "metadata": {},
     "output_type": "execute_result"
    }
   ],
   "source": [
    "timesheet['Employee ID'].nunique()"
   ]
  },
  {
   "cell_type": "code",
   "execution_count": 13,
   "id": "3a635a59",
   "metadata": {
    "scrolled": true
   },
   "outputs": [
    {
     "data": {
      "text/plain": [
       "array(['93014481', '93003252', 'WPSWK00002679', '16319956', '93016406',\n",
       "       '93016866', 'WPSWK00002667', '93013334', '93002198', '93012788',\n",
       "       'STAWK00005602', '93015913', '93017595', 'WPSWK00005750',\n",
       "       '93002430', '93015879', '93012654', 'WPSWK00002703', '93011818',\n",
       "       '93014866', 'STAWK00004031', 'RANWK00004539', '93017437',\n",
       "       'STAWK00004023', '93015264', '93011907', '93017562',\n",
       "       'WPSWK00005085', '20009036', 'RANWK00007311', '93016761',\n",
       "       '93014634', '93015386', '93013025', 'STAWK00004025',\n",
       "       'WPSWK00002691', '93016901', '93012244', '16321298', '93004879',\n",
       "       '50335132', '93003646', 'WPSWK00002675', '93013759',\n",
       "       'RANWK00005122', '93010043', 'WPSWK00002671', '93010960',\n",
       "       '93017227', '16320973', '93004322', '93017439', '93007045',\n",
       "       '93011142', '93014024', 'RANWK00002317', 'STAWK00004038',\n",
       "       '93014489', 'WPSWK00004986', 'RANWK00002124', '93015838',\n",
       "       'WPSWK00002672', '93012220', '93007000', '93014604', '93014246',\n",
       "       '93015172', 'STAWK00005674', '93006955', '93007842', '50335130',\n",
       "       '93017095', '93014785', 'RANWK00001967', 'ELWWK00006314',\n",
       "       '93006783', '93006312', 'RANWK00004513', 'WPSWK00002669',\n",
       "       'RANWK00006452', '93014140', 'STAWK00004028', '93015534',\n",
       "       'WPSWK00002677', '93016835', 'WPSWK00004725', 'WPSWK00002706',\n",
       "       '93005175', '93015978', '93005665', '93012221', 'STAWK00004015',\n",
       "       'STAWK00004063', 'WPSWK00002670', '93009651', '93007717',\n",
       "       'WPSWK00007138', '16317862', '93013827', 'WPSWK00002690',\n",
       "       '93017293', 'STAWK00005130', '93014702', '93007057', '93016762',\n",
       "       '93003920', '93017482', '20000968', '93010198', '93017090',\n",
       "       '93006452', 'WPSWK00002685', '93017593', 'ELWWK00002854',\n",
       "       '50335382', '93015699', '93006364', '93015612', 'WPSWK00002687',\n",
       "       '93004924', '93014264', '93005635', 'RANWK00002319',\n",
       "       'WPSWK00002697', '93005199', '93010329', '93010263',\n",
       "       'WPSWK00002686', 'ELWWK00004650', '93007397', '93004647',\n",
       "       'RANWK00002271', '93003939', 'STAWK00004017', 'WPSWK00002694',\n",
       "       '93010063', '93017274', '93016005', '93008229', '93016001',\n",
       "       '93006335', 'STAWK00004030', 'RANWK00006451', '93013350',\n",
       "       '93014861', '93014134', '93015173', '50335314', 'RANWK00006455',\n",
       "       '93014236', '93015678', '93016158', '93016824', 'STAWK00004021',\n",
       "       '93014536', '93014416', '93010464', 'WPSWK00002676', '20008036',\n",
       "       '50335153', '93007606', '50335087', 'RANWK00002385', '16317379',\n",
       "       'ELWWK00002440', 'WPSWK00004500', '20006488', '50334000',\n",
       "       'RANWK00002303', '93007985', 'WPSWK00002693', '93015247',\n",
       "       '93006348', '93007047', '93016818', '93012521', '93017440',\n",
       "       '93003930', '93015126', '93015940', 'WPSWK00002688', '93013095',\n",
       "       'RANWK00001982', 'WPSWK00002674', '93014864', 'RANWK00005761',\n",
       "       '93015987', '50335076', 'ELWWK00002929', 'WPSWK00002692',\n",
       "       '50335134', '93016454', '93014939', 'WPSWK00002680',\n",
       "       'ELWWK00002505', '93015614', '93005564', '93015387',\n",
       "       'STAWK00004022', 'STAWK00005693', '93015254', 'WPSWK00002678',\n",
       "       '93014309', 'WPSWK00005086', 'RANWK00006858', '93015424',\n",
       "       'RANWK00006453', '93015357', 'ELWWK00004655', '93011843',\n",
       "       '93006307', 'ELWWK00005675', 'RANWK00004543', '93014614',\n",
       "       '20003871', 'ELWWK00002872', '93017594', '93008180', '93012595',\n",
       "       '93016010', '93017110', '93012790', 'WPSWK00004499',\n",
       "       'RANWK00005055', 'RANWK00002228', '93005447', 'WPSWK00003962',\n",
       "       '93017553', 'RANWK00004544', '20009331', 'ELWWK00002839',\n",
       "       '93016850', '93016933', '93017474', '93015749', 'WPSWK00002698',\n",
       "       '50335080', '93011841', 'ELWWK00004658', '93017225', '93004826',\n",
       "       'RANWK00005485', '93003830', '93013478', 'ELWWK00002901',\n",
       "       '93017561', '93006781', '93016345', '93012820', '93002366',\n",
       "       '93008183', '93003781', '93013357', '20006597', '93013347',\n",
       "       '93012866', 'WPSWK00002696', '93014824', 'WPSWK00005076',\n",
       "       '50335129', '93017444', 'WPSWK00002684', 'RANWK00002267',\n",
       "       '93007388', '93014926', '93006790', '93004397', '50334629',\n",
       "       '93014282', 'STAWK00004060', 'WPSWK00003963', 'STAWK00004046',\n",
       "       '50335131', 'ELWWK00005251', 'WPSWK00002720', '93011817',\n",
       "       '93014862', 'RANWK00002122', 'WPSWK00002695', 'WPSWK00002701',\n",
       "       '93015253', 'STAWK00004048', '93016467', '93015408', '93015989',\n",
       "       'RANWK00006209', '93007851', '20004715', '93007596',\n",
       "       'STAWK00004057', '93016779', '93010614', '93016628', '93016879',\n",
       "       '93013815', '93015525', 'WPSWK00002711', '93012653', '93015979',\n",
       "       '93014468', '93016816', 'WPSWK00002699', '93017563', '93016767',\n",
       "       '93016218', 'STAWK00004045', '93006511', '15796048',\n",
       "       'WPSWK00002673', '93016825', '50334631', '93004923', '50335801',\n",
       "       'ELWWK00004656', 'RANWK00004865', '93004177', 'RANWK00007009',\n",
       "       '93017441', '93013942', 'WPSWK00002668', '93013495', '93003276',\n",
       "       '93016836', 'WPSWK00003875', '93014627', '93008239', '93017564',\n",
       "       '93010657', 'STAWK00004049', 'RANWK00004768', '93016889',\n",
       "       '93012525', 'WPSWK00002682', '93011192', '93000473', '16318275',\n",
       "       '93015615', '93011921', '93007592', '93002354', 'WPSWK00002683',\n",
       "       'STAWK00005181', '20003459', '93016801', '16319981', '93007238',\n",
       "       '50333989', 'ELWWK00002893', '93015354', 'RANWK00001983',\n",
       "       '93012528', '93015698', '93014131', '93004983', 'WPSWK00002689',\n",
       "       '93006824', '93009243', '16318005', '93013941', '93017224',\n",
       "       '50334013', '93011664', 'WPSWK00003961', '93015745', '93008277',\n",
       "       '16317619', '93016763', '93015611', 'WPSWK00002700', '93005946',\n",
       "       '93014781', 'RANWK00004521', '93006504', '93005160', '93015977',\n",
       "       'ELWWK00002999', '16317707', '93006847', '93013479', '93016475',\n",
       "       'ELWWK00003013', 'STAWK00004042', '93005099', '93015132',\n",
       "       'WPSWK00002681', 'RANWK00006454', 'WPSWK00002726', '93003504',\n",
       "       'ELWWK00002955', 'RANWK00002031', '93005046', 'RANWK00002360',\n",
       "       '20006222'], dtype=object)"
      ]
     },
     "execution_count": 13,
     "metadata": {},
     "output_type": "execute_result"
    }
   ],
   "source": [
    "timesheet['Employee ID'].unique()\n",
    "#maybe I don't need this"
   ]
  },
  {
   "cell_type": "code",
   "execution_count": 14,
   "id": "5c687e7e",
   "metadata": {},
   "outputs": [
    {
     "data": {
      "text/plain": [
       "array([16800626, 16800737, 16800698, 16800723, 16800681, 16800699,\n",
       "       16800718], dtype=int64)"
      ]
     },
     "execution_count": 14,
     "metadata": {},
     "output_type": "execute_result"
    }
   ],
   "source": [
    "timesheet['Business Unit'].unique()"
   ]
  },
  {
   "cell_type": "code",
   "execution_count": 15,
   "id": "b5059dab",
   "metadata": {},
   "outputs": [],
   "source": [
    "timesheet['Employee Full Name'] = timesheet['Employee Full Name'].str.replace(r'\\s+[A-Z]$', '', regex=True)\n",
    "timesheet[['Last_Name', 'Name']] = timesheet['Employee Full Name'].str.split(', ', 2, expand=True)\n",
    "timesheet['Employee Full Name'] = timesheet['Name']+\" \"+timesheet['Last_Name'].str.title()\n",
    "\n",
    "#Name porivd is done!!! Do not change any!!"
   ]
  },
  {
   "cell_type": "code",
   "execution_count": 16,
   "id": "ee113079",
   "metadata": {
    "scrolled": false
   },
   "outputs": [
    {
     "data": {
      "text/plain": [
       "0        Jamison Gammon\n",
       "1        Jamison Gammon\n",
       "2        Jamison Gammon\n",
       "3        Jamison Gammon\n",
       "4        Jamison Gammon\n",
       "             ...       \n",
       "1772    Ginger Thompson\n",
       "1773    Ginger Thompson\n",
       "1774    Ginger Thompson\n",
       "1775    Ginger Thompson\n",
       "1776    Ginger Thompson\n",
       "Name: Employee Full Name, Length: 1777, dtype: object"
      ]
     },
     "execution_count": 16,
     "metadata": {},
     "output_type": "execute_result"
    }
   ],
   "source": [
    "timesheet['Employee Full Name']"
   ]
  },
  {
   "cell_type": "code",
   "execution_count": 17,
   "id": "5fa47adf",
   "metadata": {},
   "outputs": [],
   "source": [
    "def fix_columns(df):\n",
    "    for idx in range(len(df['Business Unit'])):\n",
    "        #i = [] -> this one doesn't work becasue i is not list, it will change the unit names \n",
    "        #but shows error too: Index(...) must be called with a collection of some kind, None was passed\n",
    "        # you will need to give the \"idex\" as list name\n",
    "        if df['Business Unit'][idx] == 16800626:\n",
    "            df['Business Unit'][idx] = 'NCR'\n",
    "        elif df['Business Unit'][idx] == 16800681:\n",
    "            df['Business Unit'][idx] = 'Ramsey'\n",
    "        elif df['Business Unit'][idx] == 16800698:\n",
    "            df['Business Unit'][idx] = 'Pentland'   \n",
    "        elif df['Business Unit'][idx] == 16800699:\n",
    "            df['Business Unit'][idx] = 'GP'     \n",
    "        elif df['Business Unit'][idx] == 16800718:\n",
    "            df['Business Unit'][idx] = 'Cabinet Health'\n",
    "        elif df['Business Unit'][idx] == 16800720:\n",
    "            df['Business Unit'][idx] = 'Sidewalk Labs'\n",
    "        elif df['Business Unit'][idx] == 16800723:\n",
    "            df['Business Unit'][idx] = 'Cybex'\n",
    "        elif df['Business Unit'][idx] == 16800737:\n",
    "            df['Business Unit'][idx] = 'Gathr'\n",
    "        elif df['Business Unit'][idx] == 168780:\n",
    "            df.drop(idx, inplace=True)\n",
    "    return df\n"
   ]
  },
  {
   "cell_type": "code",
   "execution_count": 18,
   "id": "0d2c1071",
   "metadata": {
    "scrolled": false
   },
   "outputs": [
    {
     "name": "stderr",
     "output_type": "stream",
     "text": [
      "C:\\Users\\liuchen\\AppData\\Local\\Temp\\ipykernel_8456\\1131336080.py:7: SettingWithCopyWarning: \n",
      "A value is trying to be set on a copy of a slice from a DataFrame\n",
      "\n",
      "See the caveats in the documentation: https://pandas.pydata.org/pandas-docs/stable/user_guide/indexing.html#returning-a-view-versus-a-copy\n",
      "  df['Business Unit'][idx] = 'NCR'\n"
     ]
    },
    {
     "data": {
      "text/plain": [
       "array(['NCR', 'Gathr', 'Pentland', 'Cybex', 'Ramsey', 'GP',\n",
       "       'Cabinet Health'], dtype=object)"
      ]
     },
     "execution_count": 18,
     "metadata": {},
     "output_type": "execute_result"
    }
   ],
   "source": [
    "fixed_timesheet = fix_columns(timesheet)\n",
    "timesheet['Business Unit'].unique()"
   ]
  },
  {
   "cell_type": "code",
   "execution_count": 19,
   "id": "07d17834",
   "metadata": {},
   "outputs": [
    {
     "data": {
      "text/plain": [
       "array(['US Salaried', 'US Regular', 'US Total Overtime',\n",
       "       'US Overtime 1.5', nan, 'US On Call Amount', 'US PTO',\n",
       "       'US Personal Unpaid', 'US Unplanned Absence',\n",
       "       'US Floating Holiday', 'US Bereavement'], dtype=object)"
      ]
     },
     "execution_count": 19,
     "metadata": {},
     "output_type": "execute_result"
    }
   ],
   "source": [
    "timesheet = timesheet.drop(columns = ['Legal Entity','Product','Location','Last_Name','Name'])\n",
    "timesheet['Paycode Name'].unique()"
   ]
  },
  {
   "cell_type": "code",
   "execution_count": 20,
   "id": "356b3590",
   "metadata": {},
   "outputs": [
    {
     "name": "stdout",
     "output_type": "stream",
     "text": [
      "What paycode do you want to delete? (Enter 'no' or 'done' to exit)US Total Overtime\n",
      "What paycode do you want to delete? (Enter 'no' or 'done' to exit)US On Call Amount\n",
      "What paycode do you want to delete? (Enter 'no' or 'done' to exit)US Unplanned Absence\n",
      "What paycode do you want to delete? (Enter 'no' or 'done' to exit)US Personal Unpaid\n",
      "What paycode do you want to delete? (Enter 'no' or 'done' to exit)done\n",
      "What paycode do you want to delete? (Enter 'no' or 'done' to exit)done\n",
      "What paycode do you want to delete? (Enter 'no' or 'done' to exit)no\n"
     ]
    }
   ],
   "source": [
    "paycode_to_delete = input(\"What paycode do you want to delete? (Enter 'done' to exit)\")\n",
    "## -> this is the loop for delete no needed paycodes\n",
    "\n",
    "while paycode_to_delete.lower() not in ['done']:\n",
    "    rows_to_delete = timesheet[timesheet['Paycode Name'].str.lower() == paycode_to_delete.lower()].index\n",
    "    timesheet.drop(rows_to_delete, inplace=True)\n",
    "    paycode_to_delete = input(\"What paycode do you want to delete? (Enter 'done' to exit)\")\n",
    "\n",
    "## this is all good, don't do anything"
   ]
  },
  {
   "cell_type": "code",
   "execution_count": 21,
   "id": "116d591d",
   "metadata": {
    "scrolled": false
   },
   "outputs": [
    {
     "data": {
      "text/html": [
       "<div>\n",
       "<style scoped>\n",
       "    .dataframe tbody tr th:only-of-type {\n",
       "        vertical-align: middle;\n",
       "    }\n",
       "\n",
       "    .dataframe tbody tr th {\n",
       "        vertical-align: top;\n",
       "    }\n",
       "\n",
       "    .dataframe thead th {\n",
       "        text-align: right;\n",
       "    }\n",
       "</style>\n",
       "<table border=\"1\" class=\"dataframe\">\n",
       "  <thead>\n",
       "    <tr style=\"text-align: right;\">\n",
       "      <th></th>\n",
       "      <th>Employee Full Name</th>\n",
       "      <th>Employee ID</th>\n",
       "      <th>Business Unit</th>\n",
       "      <th>Actual Total Hours (Include Corrections)</th>\n",
       "      <th>Actual Total Apply Date</th>\n",
       "      <th>Paycode Name</th>\n",
       "    </tr>\n",
       "  </thead>\n",
       "  <tbody>\n",
       "    <tr>\n",
       "      <th>0</th>\n",
       "      <td>Jamison Gammon</td>\n",
       "      <td>93014481</td>\n",
       "      <td>NCR</td>\n",
       "      <td>8.00</td>\n",
       "      <td>2/23/2023</td>\n",
       "      <td>US Salaried</td>\n",
       "    </tr>\n",
       "    <tr>\n",
       "      <th>1</th>\n",
       "      <td>Jamison Gammon</td>\n",
       "      <td>93014481</td>\n",
       "      <td>NCR</td>\n",
       "      <td>8.00</td>\n",
       "      <td>2/22/2023</td>\n",
       "      <td>US Salaried</td>\n",
       "    </tr>\n",
       "    <tr>\n",
       "      <th>2</th>\n",
       "      <td>Jamison Gammon</td>\n",
       "      <td>93014481</td>\n",
       "      <td>NCR</td>\n",
       "      <td>8.00</td>\n",
       "      <td>2/21/2023</td>\n",
       "      <td>US Salaried</td>\n",
       "    </tr>\n",
       "    <tr>\n",
       "      <th>3</th>\n",
       "      <td>Jamison Gammon</td>\n",
       "      <td>93014481</td>\n",
       "      <td>NCR</td>\n",
       "      <td>8.00</td>\n",
       "      <td>2/24/2023</td>\n",
       "      <td>US Salaried</td>\n",
       "    </tr>\n",
       "    <tr>\n",
       "      <th>4</th>\n",
       "      <td>Jamison Gammon</td>\n",
       "      <td>93014481</td>\n",
       "      <td>NCR</td>\n",
       "      <td>8.00</td>\n",
       "      <td>2/20/2023</td>\n",
       "      <td>US Salaried</td>\n",
       "    </tr>\n",
       "    <tr>\n",
       "      <th>5</th>\n",
       "      <td>Tina Cox</td>\n",
       "      <td>93003252</td>\n",
       "      <td>NCR</td>\n",
       "      <td>8.13</td>\n",
       "      <td>2/23/2023</td>\n",
       "      <td>US Regular</td>\n",
       "    </tr>\n",
       "    <tr>\n",
       "      <th>6</th>\n",
       "      <td>Tina Cox</td>\n",
       "      <td>93003252</td>\n",
       "      <td>NCR</td>\n",
       "      <td>8.15</td>\n",
       "      <td>2/22/2023</td>\n",
       "      <td>US Regular</td>\n",
       "    </tr>\n",
       "    <tr>\n",
       "      <th>7</th>\n",
       "      <td>Tina Cox</td>\n",
       "      <td>93003252</td>\n",
       "      <td>NCR</td>\n",
       "      <td>8.22</td>\n",
       "      <td>2/21/2023</td>\n",
       "      <td>US Regular</td>\n",
       "    </tr>\n",
       "    <tr>\n",
       "      <th>9</th>\n",
       "      <td>Tina Cox</td>\n",
       "      <td>93003252</td>\n",
       "      <td>NCR</td>\n",
       "      <td>0.77</td>\n",
       "      <td>2/24/2023</td>\n",
       "      <td>US Overtime 1.5</td>\n",
       "    </tr>\n",
       "    <tr>\n",
       "      <th>10</th>\n",
       "      <td>Tina Cox</td>\n",
       "      <td>93003252</td>\n",
       "      <td>NCR</td>\n",
       "      <td>7.32</td>\n",
       "      <td>2/24/2023</td>\n",
       "      <td>US Regular</td>\n",
       "    </tr>\n",
       "    <tr>\n",
       "      <th>11</th>\n",
       "      <td>Tina Cox</td>\n",
       "      <td>93003252</td>\n",
       "      <td>NCR</td>\n",
       "      <td>8.18</td>\n",
       "      <td>2/20/2023</td>\n",
       "      <td>US Regular</td>\n",
       "    </tr>\n",
       "    <tr>\n",
       "      <th>12</th>\n",
       "      <td>Charles Kistner</td>\n",
       "      <td>WPSWK00002679</td>\n",
       "      <td>NCR</td>\n",
       "      <td>NaN</td>\n",
       "      <td>NaN</td>\n",
       "      <td>NaN</td>\n",
       "    </tr>\n",
       "    <tr>\n",
       "      <th>14</th>\n",
       "      <td>Bernice Dobson</td>\n",
       "      <td>16319956</td>\n",
       "      <td>NCR</td>\n",
       "      <td>2.32</td>\n",
       "      <td>2/23/2023</td>\n",
       "      <td>US Overtime 1.5</td>\n",
       "    </tr>\n",
       "    <tr>\n",
       "      <th>15</th>\n",
       "      <td>Bernice Dobson</td>\n",
       "      <td>16319956</td>\n",
       "      <td>NCR</td>\n",
       "      <td>7.80</td>\n",
       "      <td>2/23/2023</td>\n",
       "      <td>US Regular</td>\n",
       "    </tr>\n",
       "    <tr>\n",
       "      <th>16</th>\n",
       "      <td>Bernice Dobson</td>\n",
       "      <td>16319956</td>\n",
       "      <td>NCR</td>\n",
       "      <td>11.05</td>\n",
       "      <td>2/22/2023</td>\n",
       "      <td>US Regular</td>\n",
       "    </tr>\n",
       "    <tr>\n",
       "      <th>17</th>\n",
       "      <td>Bernice Dobson</td>\n",
       "      <td>16319956</td>\n",
       "      <td>NCR</td>\n",
       "      <td>11.08</td>\n",
       "      <td>2/21/2023</td>\n",
       "      <td>US Regular</td>\n",
       "    </tr>\n",
       "    <tr>\n",
       "      <th>19</th>\n",
       "      <td>Bernice Dobson</td>\n",
       "      <td>16319956</td>\n",
       "      <td>NCR</td>\n",
       "      <td>7.70</td>\n",
       "      <td>2/24/2023</td>\n",
       "      <td>US Overtime 1.5</td>\n",
       "    </tr>\n",
       "    <tr>\n",
       "      <th>20</th>\n",
       "      <td>Bernice Dobson</td>\n",
       "      <td>16319956</td>\n",
       "      <td>NCR</td>\n",
       "      <td>10.07</td>\n",
       "      <td>2/20/2023</td>\n",
       "      <td>US Regular</td>\n",
       "    </tr>\n",
       "    <tr>\n",
       "      <th>21</th>\n",
       "      <td>Joseph Adams</td>\n",
       "      <td>93016406</td>\n",
       "      <td>NCR</td>\n",
       "      <td>8.00</td>\n",
       "      <td>2/23/2023</td>\n",
       "      <td>US Salaried</td>\n",
       "    </tr>\n",
       "    <tr>\n",
       "      <th>22</th>\n",
       "      <td>Joseph Adams</td>\n",
       "      <td>93016406</td>\n",
       "      <td>NCR</td>\n",
       "      <td>8.00</td>\n",
       "      <td>2/22/2023</td>\n",
       "      <td>US Salaried</td>\n",
       "    </tr>\n",
       "  </tbody>\n",
       "</table>\n",
       "</div>"
      ],
      "text/plain": [
       "   Employee Full Name    Employee ID Business Unit  \\\n",
       "0      Jamison Gammon       93014481           NCR   \n",
       "1      Jamison Gammon       93014481           NCR   \n",
       "2      Jamison Gammon       93014481           NCR   \n",
       "3      Jamison Gammon       93014481           NCR   \n",
       "4      Jamison Gammon       93014481           NCR   \n",
       "5            Tina Cox       93003252           NCR   \n",
       "6            Tina Cox       93003252           NCR   \n",
       "7            Tina Cox       93003252           NCR   \n",
       "9            Tina Cox       93003252           NCR   \n",
       "10           Tina Cox       93003252           NCR   \n",
       "11           Tina Cox       93003252           NCR   \n",
       "12    Charles Kistner  WPSWK00002679           NCR   \n",
       "14     Bernice Dobson       16319956           NCR   \n",
       "15     Bernice Dobson       16319956           NCR   \n",
       "16     Bernice Dobson       16319956           NCR   \n",
       "17     Bernice Dobson       16319956           NCR   \n",
       "19     Bernice Dobson       16319956           NCR   \n",
       "20     Bernice Dobson       16319956           NCR   \n",
       "21       Joseph Adams       93016406           NCR   \n",
       "22       Joseph Adams       93016406           NCR   \n",
       "\n",
       "    Actual Total Hours (Include Corrections) Actual Total Apply Date  \\\n",
       "0                                       8.00               2/23/2023   \n",
       "1                                       8.00               2/22/2023   \n",
       "2                                       8.00               2/21/2023   \n",
       "3                                       8.00               2/24/2023   \n",
       "4                                       8.00               2/20/2023   \n",
       "5                                       8.13               2/23/2023   \n",
       "6                                       8.15               2/22/2023   \n",
       "7                                       8.22               2/21/2023   \n",
       "9                                       0.77               2/24/2023   \n",
       "10                                      7.32               2/24/2023   \n",
       "11                                      8.18               2/20/2023   \n",
       "12                                       NaN                     NaN   \n",
       "14                                      2.32               2/23/2023   \n",
       "15                                      7.80               2/23/2023   \n",
       "16                                     11.05               2/22/2023   \n",
       "17                                     11.08               2/21/2023   \n",
       "19                                      7.70               2/24/2023   \n",
       "20                                     10.07               2/20/2023   \n",
       "21                                      8.00               2/23/2023   \n",
       "22                                      8.00               2/22/2023   \n",
       "\n",
       "       Paycode Name  \n",
       "0       US Salaried  \n",
       "1       US Salaried  \n",
       "2       US Salaried  \n",
       "3       US Salaried  \n",
       "4       US Salaried  \n",
       "5        US Regular  \n",
       "6        US Regular  \n",
       "7        US Regular  \n",
       "9   US Overtime 1.5  \n",
       "10       US Regular  \n",
       "11       US Regular  \n",
       "12              NaN  \n",
       "14  US Overtime 1.5  \n",
       "15       US Regular  \n",
       "16       US Regular  \n",
       "17       US Regular  \n",
       "19  US Overtime 1.5  \n",
       "20       US Regular  \n",
       "21      US Salaried  \n",
       "22      US Salaried  "
      ]
     },
     "execution_count": 21,
     "metadata": {},
     "output_type": "execute_result"
    }
   ],
   "source": [
    "timesheet.head(20)"
   ]
  },
  {
   "cell_type": "code",
   "execution_count": 22,
   "id": "6054bdf9",
   "metadata": {},
   "outputs": [],
   "source": [
    "timesheet.to_csv(r'Z:/Analytics/Testing/xotimesheetox.csv')"
   ]
  },
  {
   "cell_type": "code",
   "execution_count": null,
   "id": "883a0346",
   "metadata": {},
   "outputs": [],
   "source": []
  }
 ],
 "metadata": {
  "kernelspec": {
   "display_name": "Python 3 (ipykernel)",
   "language": "python",
   "name": "python3"
  },
  "language_info": {
   "codemirror_mode": {
    "name": "ipython",
    "version": 3
   },
   "file_extension": ".py",
   "mimetype": "text/x-python",
   "name": "python",
   "nbconvert_exporter": "python",
   "pygments_lexer": "ipython3",
   "version": "3.9.12"
  }
 },
 "nbformat": 4,
 "nbformat_minor": 5
}
